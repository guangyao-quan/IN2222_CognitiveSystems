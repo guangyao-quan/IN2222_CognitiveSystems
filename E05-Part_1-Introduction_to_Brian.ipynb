{
  "nbformat": 4,
  "nbformat_minor": 0,
  "metadata": {
    "colab": {
      "name": "STDP with Brian.ipynb",
      "provenance": [],
      "collapsed_sections": [
        "KBi_LktYdbwb",
        "KZkf_S1DHJhA",
        "_079kTkMHTUC",
        "_E-PAhfN9U14"
      ]
    },
    "kernelspec": {
      "name": "python3",
      "display_name": "Python 3"
    }
  },
  "cells": [
    {
      "cell_type": "code",
      "metadata": {
        "id": "IuHzSt6k9Puk",
        "colab_type": "code",
        "colab": {}
      },
      "source": [
        "# This tutorial is based on the tutorial section of the brian software:\n",
        "# https://brian2.readthedocs.io/en/stable/resources/tutorials/1-intro-to-brian-neurons.html\n",
        "\n",
        "# We first need to install Brian2.\n",
        "# The \"!\" allows you to execute a command outside of the python environment. \n",
        "# It basically runs this command in the terminal of your Colab machine.\n",
        "!pip install brian2\n",
        "\n",
        "# Let's now import the Brian modlue. \n",
        "# With \"import *\", we import everything. \n",
        "from brian2 import *\n",
        "\n",
        "# for more beautiful plots\n",
        "import seaborn as sns\n",
        "sns.set()"
      ],
      "execution_count": null,
      "outputs": []
    },
    {
      "cell_type": "markdown",
      "metadata": {
        "id": "RNg7xBsk2xjw",
        "colab_type": "text"
      },
      "source": [
        "**Note:** using `import *` is considered a bad coding practice because different modules may have classes or functions carrying the same name. Try to avoid it whenever possible. In this notebook, it saves you from writing `brian2.` over and over again.\n",
        "\n",
        "---\n",
        "\n",
        "\n",
        "The sturcture of this Colab notebook is as follows. In the first part \"A basic neural network\" we expose you to the Brian2 python module and show you how you can build a simple neural network. \n",
        "After you have understood the basic usage, we provide you with three exercises where you can practice your codings skills and test your understanding. \n",
        "\n",
        "\n",
        "\n",
        "1.   Exercise: You will adapt the code to work with SI units.\n",
        "2.   Exercise: You will implement the Izhikevich neuron and explore its modelling capabilities.\n",
        "3.   Exercise: You will model a STDP synapses with local variables.\n",
        "\n",
        "Let's begin.\n",
        "\n",
        "\n",
        "\n",
        "# A very basic neural network\n",
        "\n",
        "### 1. Initialize the experiment\n",
        "\n",
        "First we want to consider a very basic neural network.\n",
        "To begin, we first need to open our simulation environment."
      ]
    },
    {
      "cell_type": "code",
      "metadata": {
        "id": "9zlDSo2n9o6t",
        "colab_type": "code",
        "colab": {}
      },
      "source": [
        "start_scope()"
      ],
      "execution_count": null,
      "outputs": []
    },
    {
      "cell_type": "markdown",
      "metadata": {
        "id": "YB5zZS4e3U6w",
        "colab_type": "text"
      },
      "source": [
        "### 2. Define the neuron model\n",
        "\n",
        "We want to specify a point neuron model describing the behaviour. We will use the leaky integrate and fire (LIF) neuron in a slightly simplified version. Try to describe why this a little bit simpler than the version that you have seen in exercise 03. "
      ]
    },
    {
      "cell_type": "code",
      "metadata": {
        "id": "N9KsZVtC2dx1",
        "colab_type": "code",
        "colab": {}
      },
      "source": [
        "eqs = '''\n",
        "dv/dt = (I-v)/tau : 1\n",
        "I : 1\n",
        "tau : second\n",
        "'''"
      ],
      "execution_count": null,
      "outputs": []
    },
    {
      "cell_type": "markdown",
      "metadata": {
        "id": "9-w-a5KW4RzZ",
        "colab_type": "text"
      },
      "source": [
        "Maybe you have figured it out by yourself:\n",
        "\n",
        "*   We neglected the resistance, e.g. $R=1$\n",
        "*   We identified $V=A=\\Omega=1$, which means that we are working without units.\n",
        "\n",
        "**Generally, we can use a simple conventional math syntax to define how a neuron behaves. The only difference occurs at the end of each line because we have to specify the unit with \": UNIT\" at the end of each line.** Brian is sensible to units in the sense that if you try to add two numbers with different neurons it will fail. Note that $d/dt$ is associated with an inverse time dimension, which is why we have to define `tau : second`.\n",
        "\n",
        "\n",
        "\n",
        "### 3. Initialize a set of neurons\n",
        "\n",
        "Let's now continue by setting up a group of three neurons that obey the previously defined eqation. We want the LIF neuron to spike when the voltage $v$ is larger than $1$ and set the voltage to zero after emitting the spike. Brian allows you to run different methods for solving the system of differential equations. Here, we want to choose \"exact\" although other options would work here equally fine. \n",
        "\n",
        "The three neurons receive different input currents, e.g. 2, 0 and 0 ampere for the first, second and third neuron, respectively. Furthermore, the neurons behave with different time constants $\\tau$. In brian2 code:"
      ]
    },
    {
      "cell_type": "code",
      "metadata": {
        "id": "uJ1n8GDi3m8E",
        "colab_type": "code",
        "colab": {}
      },
      "source": [
        "G = NeuronGroup(3, eqs, threshold='v>1', reset='v = 0', method='exact')\n",
        "G.I = [2, 0, 0]\n",
        "G.tau = [10, 100, 100]*ms"
      ],
      "execution_count": null,
      "outputs": []
    },
    {
      "cell_type": "markdown",
      "metadata": {
        "id": "7Xv-r4iN4Sc4",
        "colab_type": "text"
      },
      "source": [
        "### 4. Connecting the neurons with synapses\n",
        "\n",
        "Now that we have defined three neurons, let's connect them to each other with synapses. Let us paraphrase us what happens. Connecting the neurons means nothing but connecting the neuron group G with G itself. As typcially for LIF neurons, we simply add a certain value (here $w$) to the post-synaptic potential once the pre-synaptic neuron spikes. \n",
        "\n",
        "We want to be a little more specific, namely we want to connect the first to the second and third neuron. The weights are given as $w_{pre,post}$ so we use the second line to tell Brian2 to establish the connections $w_{0,1}$ and $w_{0,2}$.\n",
        "\n",
        "The last two lines model two properties of a synapse. We consider the synaptic strength, e.g. the weigth, and the synaptic delay. So far you may not have encountered the delay but it is used to model the different distances that arise due to different lengths of dendrites and axons. Note how we can use the labels $j$ to modify the values!\n"
      ]
    },
    {
      "cell_type": "code",
      "metadata": {
        "id": "qisCJKvZ2d0w",
        "colab_type": "code",
        "colab": {}
      },
      "source": [
        "S = Synapses(G, G, 'w : 1', on_pre='v_post += w')\n",
        "S.connect(i=0, j=[1, 2])\n",
        "S.w = 'j*0.2'\n",
        "S.delay = 'j*2*ms'"
      ],
      "execution_count": null,
      "outputs": []
    },
    {
      "cell_type": "markdown",
      "metadata": {
        "id": "taoESyBE4VQf",
        "colab_type": "text"
      },
      "source": [
        "With these couple of lines of code, we have already defined our network of LIF neurons! We now want to simualate the network. \n",
        "\n",
        "### 5. Monitoring the membrane potential.\n",
        "\n",
        "However, to see what's happening during the simulation, we need to keep track of the voltages $v_i(t), i \\in \\{1,2,3\\}$. Brian2 offers a very nice feature called StateMonitor. We can use it to monitor the population G by recording the voltage. "
      ]
    },
    {
      "cell_type": "code",
      "metadata": {
        "id": "cUQqDU_c2d4h",
        "colab_type": "code",
        "colab": {}
      },
      "source": [
        "M = StateMonitor(G, 'v', record=True)"
      ],
      "execution_count": null,
      "outputs": []
    },
    {
      "cell_type": "markdown",
      "metadata": {
        "id": "p5jKOqfI4Wio",
        "colab_type": "text"
      },
      "source": [
        "### 6. Simulate the system \n",
        "Let us now simulate the network for 50 milli-seconds"
      ]
    },
    {
      "cell_type": "code",
      "metadata": {
        "id": "nDEwmzGCTNpf",
        "colab_type": "code",
        "colab": {}
      },
      "source": [
        "run(50*ms)"
      ],
      "execution_count": null,
      "outputs": []
    },
    {
      "cell_type": "markdown",
      "metadata": {
        "id": "e4GTVSuO4XMn",
        "colab_type": "text"
      },
      "source": [
        "and visualize the results with Brians integrated matplotlib API."
      ]
    },
    {
      "cell_type": "code",
      "metadata": {
        "id": "6cxLRJcw2oYB",
        "colab_type": "code",
        "colab": {}
      },
      "source": [
        "plot(M.t/ms, M.v[0], label='Neuron 0')\n",
        "plot(M.t/ms, M.v[1], label='Neuron 1')\n",
        "plot(M.t/ms, M.v[2], label='Neuron 2')\n",
        "xlabel('Time (ms)')\n",
        "ylabel('v')\n",
        "legend();"
      ],
      "execution_count": null,
      "outputs": []
    },
    {
      "cell_type": "markdown",
      "metadata": {
        "id": "Lt5dv22gOo89",
        "colab_type": "text"
      },
      "source": [
        "We charge neuron 0 with a constant, non-zero current $I_0$. We observe the curve that we also saw in exercise 03 - the typical curve that describes the charging of a capacitor in the RC circuit. For neuron 1 and 2 we do not see this curve. For these two neurons, we set $I_1=I_2=0$. In that sense, we see the curve that we observe when discharging a capacior. \n",
        "\n",
        "Whenever neuron 0 spikes, it takes a small time ($j\\cdot 2 \\text{ms}$) modeled by the synaptic delay until neuron 1 and 2 increase their membrane potential by 0.2 and 0.4, respectively. Generally, a neuron fires whenever its membrane potential crosses the threshold 1.0 and the potential is set to 0.\n",
        "\n",
        "\n",
        "\n",
        "---\n",
        "\n",
        "\n",
        "\n",
        "## Task 1:\n",
        "You have now seen the basic syntax for Brian2. The example slightly deviates from the LIF neurons we have seen in exercise 03 because we do not use any units. The following codeblock is identical to the code that you have seen so far. Make the necessary changes to describe the LIF neuron $\\frac{dv}{dt}=\\frac{1}{\\tau}(R \\cdot I-v)$ with the appropriate SI units. Choose the parameters such that you recover the same plot as above. "
      ]
    },
    {
      "cell_type": "code",
      "metadata": {
        "id": "C-YD6-mc7iBZ",
        "colab_type": "code",
        "colab": {}
      },
      "source": [
        "# start experiment\n",
        "start_scope()\n",
        "\n",
        "# define neuron model\n",
        "# ***TO DO***: include R; modify units to amp, volt, ohm\n",
        "eqs = '''\n",
        "dv/dt = (I-v)/tau : 1\n",
        "I : 1\n",
        "tau : second\n",
        "'''\n",
        "\n",
        "# define the neuron group and its parameters\n",
        "# ***TO DO***: set values for R; modify units accordingly\n",
        "G = NeuronGroup(3, eqs, threshold='v>1', reset='v = 0', method='exact')\n",
        "G.I = [2, 0, 0]\n",
        "G.tau = [10, 100, 100]*ms\n",
        "\n",
        "# define the synapses to specify the connections\n",
        "# ***TO DO***: modify units\n",
        "S = Synapses(G, G, 'w : 1', on_pre='v_post += w')\n",
        "S.connect(i=0, j=[1, 2])\n",
        "S.w = 'j*0.2'\n",
        "S.delay = 'j*2*ms'\n",
        "\n",
        "# monitor the voltage\n",
        "M = StateMonitor(G, 'v', record=True)\n",
        "\n",
        "# run simulation\n",
        "run(50*ms)\n",
        "\n",
        "# visualize results\n",
        "plot(M.t/ms, M.v[0], label='Neuron 0')\n",
        "plot(M.t/ms, M.v[1], label='Neuron 1')\n",
        "plot(M.t/ms, M.v[2], label='Neuron 2')\n",
        "xlabel('Time (ms)')\n",
        "ylabel('v in volt')\n",
        "legend();"
      ],
      "execution_count": null,
      "outputs": []
    },
    {
      "cell_type": "markdown",
      "metadata": {
        "id": "KBi_LktYdbwb",
        "colab_type": "text"
      },
      "source": [
        "## Solution 1"
      ]
    },
    {
      "cell_type": "code",
      "metadata": {
        "id": "1t64VWhscDmV",
        "colab_type": "code",
        "colab": {}
      },
      "source": [
        "# start experiment\n",
        "start_scope()\n",
        "\n",
        "# define neuron model\n",
        "eqs = '''\n",
        "dv/dt = (R*I-v)/tau : volt\n",
        "R : ohm\n",
        "I : amp\n",
        "tau : second\n",
        "'''\n",
        "\n",
        "# define the neuron group and its parameters\n",
        "G = NeuronGroup(3, eqs, threshold='v>1*volt', reset='v = 0*volt', method='exact')\n",
        "G.R = [1, 1, 1]*ohm\n",
        "G.I = [2, 0, 0]*amp\n",
        "G.tau = [10, 100, 100]*ms\n",
        "\n",
        "# define the synapses to specify the connections\n",
        "S = Synapses(G, G, 'w : volt', on_pre='v_post += w')\n",
        "S.connect(i=0, j=[1, 2])\n",
        "S.w = 'j*0.2*volt'\n",
        "S.delay = 'j*2*ms'\n",
        "\n",
        "# monitor the voltage\n",
        "M = StateMonitor(G, 'v', record=True)\n",
        "\n",
        "# run simulation\n",
        "run(50*ms)\n",
        "\n",
        "# visualize results\n",
        "plot(M.t/ms, M.v[0], label='Neuron 0')\n",
        "plot(M.t/ms, M.v[1], label='Neuron 1')\n",
        "plot(M.t/ms, M.v[2], label='Neuron 2')\n",
        "xlabel('Time (ms)')\n",
        "ylabel('v in volt')\n",
        "legend();"
      ],
      "execution_count": null,
      "outputs": []
    },
    {
      "cell_type": "markdown",
      "metadata": {
        "id": "2gcQYS1Bovi4",
        "colab_type": "text"
      },
      "source": [
        "\n",
        "\n",
        "---\n",
        "\n",
        "\n",
        "\n",
        "---\n",
        "\n"
      ]
    },
    {
      "cell_type": "markdown",
      "metadata": {
        "id": "bWqeYgOq9urd",
        "colab_type": "text"
      },
      "source": [
        "# Task 2\n",
        "\n",
        "In exercise 03, you have encountered the Hodgkin-Huxley model. We told you that there are many models which are based on it. One of them is the so called Izhikevich neuron which was introduced in this [paper](https://www.izhikevich.org/publications/spikes.pdf). The Izhikevich neuron can produce complicated spiking behaviour based on two coupled differential equations\n",
        "\n",
        "![Image taken from Izhikevich's homepage.](https://www.izhikevich.org/publications/izhik.gif)\n",
        "\n",
        "Although the equations can be seen in the figure, we note them down here explicitly. The neuron is decribed by two dimensionless variables $u,v$ evolving according to \n",
        "\\begin{align}\n",
        "\\frac{dv}{dt} &= 0.04 v^2 + 5 v + 140 - u + I \\ , \\\\\n",
        "\\frac{du}{dt} &= a(bv-u) \\ ,\n",
        "\\end{align}\n",
        "where $a,$ and $b$ are dimensionless parameters. According to Izhikevich, the variable $v$ describes the membrane potential and the variable $u$ describes a membrane recovery variable. $I$ is the electrical current which is also dimensionless.\n",
        "\n",
        "When the membrane potential reaches a threshold at timestep $t_n$, e.g. $v(t_n) \\geq 30$, then\n",
        "\\begin{equation}\n",
        "v(t_{n+1}) = c \\ \\ \\ \\text{and} \\ \\ \\ u(t_{n+1}) = u(t_n) + d \\ .\n",
        "\\end{equation}\n",
        "Here, $c$ and $d$ are dimensionless parameters. \n",
        "\n",
        "By choosing suitable parameters for the differential equations and the reset mechanism, we can produce all of the above cases. The values for the parameters are given in the two top right pictures. To save you the burden of reading off these values, we provide them in a dictionary.\n"
      ]
    },
    {
      "cell_type": "code",
      "metadata": {
        "id": "VEAcH7Uk9vKs",
        "colab_type": "code",
        "colab": {}
      },
      "source": [
        "izhikevich_parameters = {'RS'  : {'a':0.02, 'b':0.2,  'c':-65, 'd':8   }, \n",
        "                         'IB'  : {'a':0.02, 'b':0.2,  'c':-55, 'd':4   },\n",
        "                         'CH'  : {'a':0.02, 'b':0.2,  'c':-50, 'd':2   },\n",
        "                         'FS'  : {'a':0.1,  'b':0.2,  'c':-65, 'd':2   }, \n",
        "                         'TC'  : {'a':0.02, 'b':0.25, 'c':-65, 'd':0.05}, \n",
        "                         'RZ'  : {'a':0.1,  'b':0.26, 'c':-65, 'd':2   },\n",
        "                         'LTS' : {'a':0.02, 'b':0.25, 'c':-65, 'd':2   }}"
      ],
      "execution_count": null,
      "outputs": []
    },
    {
      "cell_type": "markdown",
      "metadata": {
        "id": "ONF9uYLiC1mE",
        "colab_type": "text"
      },
      "source": [
        "**Your task: Implement the Izhikevich neuron with Brian2.** You may take as much as you want from the previous code snippets. Note that you only need a single neuron and no sysnapses for this exercise\n",
        "\n",
        "\n",
        "1.   Start by defining the equations for the variables and the reset mechanism. Make sure that the dimensions are set correctly. (Hint: define all parameters in the neuron equations an reuse them in the reset equation)\n",
        "2.   So far we have used the *exact* method to simulate the neuron group. Here, we want you to use *euler*'s method.\n",
        "3.   Set the parameters based on the dictionary. The current should be $I=10$.\n",
        "4.   Use a *StateMonitor* to monitor the variables $v,u$.\n",
        "5.   Run the simulation for 200 ms.\n",
        "6.   Visualize the variables $v,u$ over the simulation time period.   \n",
        "7.   (Optional) Visualize the phase plane ($v,u$) together with the trajectory ($v(t),u(t)$).\n",
        "8.   (**Mandatory**!) Test you implementation by trying to produce the spike patterns RS, FS, CH, IB, and TC.\n",
        "\n",
        "We highly recommend typing everything and don't just copy paste. Even if you just type it, you'll learn significantly more. Also we would encourage you to try it without the code skeleton. In case you have trouble, you can find a code skeleton below.\n",
        "\n"
      ]
    },
    {
      "cell_type": "code",
      "metadata": {
        "id": "zSOWFwsIHB9K",
        "colab_type": "code",
        "colab": {}
      },
      "source": [
        "#\n",
        "# your implementation of an Izhikevich neuron with Brian2\n",
        "#"
      ],
      "execution_count": null,
      "outputs": []
    },
    {
      "cell_type": "markdown",
      "metadata": {
        "id": "KZkf_S1DHJhA",
        "colab_type": "text"
      },
      "source": [
        "# A code skeleton\n",
        "(for those who need some guidance)"
      ]
    },
    {
      "cell_type": "code",
      "metadata": {
        "id": "SJWw-gJ6HJIQ",
        "colab_type": "code",
        "colab": {}
      },
      "source": [
        "# define a variable case to choose the different cases \n",
        "# you may get parameter a with izhikevich_parameters[case]['a']\n",
        "# for b,c,d, it is the same\n",
        "case = 'CH'\n",
        "\n",
        "# start experiment\n",
        "start_scope()\n",
        "\n",
        "# define neuron model\n",
        "eqs = '''\n",
        "TO DO\n",
        "'''\n",
        "\n",
        "# define reset\n",
        "eq_reset ='''\n",
        "TO DO\n",
        "'''\n",
        "\n",
        "# define the neuron group and its parameters\n",
        "G = NeuronGroup(1, eqs, threshold='TO DO', reset=eq_reset, method='TO DO')\n",
        "#\n",
        "# TO DO: define parameters\n",
        "#\n",
        "\n",
        "# monitor the voltage\n",
        "M = StateMonitor(G, 'TO DO', record=True)\n",
        "\n",
        "# run simulation\n",
        "run(200*ms)\n",
        "\n",
        "# visualize results\n",
        "plot(M.t/ms, M.v[0], label='Neuron 0')\n",
        "xlabel('Time (ms)')\n",
        "ylabel('v in volt')\n",
        "legend()\n",
        "show()\n",
        "#\n",
        "# TO DO: plot u against time\n",
        "#"
      ],
      "execution_count": null,
      "outputs": []
    },
    {
      "cell_type": "markdown",
      "metadata": {
        "id": "_079kTkMHTUC",
        "colab_type": "text"
      },
      "source": [
        "# Solution 2"
      ]
    },
    {
      "cell_type": "code",
      "metadata": {
        "id": "SIeoMuYMoshp",
        "colab_type": "code",
        "cellView": "both",
        "colab": {}
      },
      "source": [
        "case = 'CH'\n",
        "\n",
        "# start experiment\n",
        "start_scope()\n",
        "\n",
        "# define neuron model\n",
        "eqs = '''\n",
        "dv/dt = (0.04*v**2+5*v+140-u+I)/T : 1\n",
        "du/dt = a*(b*v-u) : 1\n",
        "T : second\n",
        "I : 1\n",
        "a : hertz\n",
        "b : 1\n",
        "c : 1\n",
        "d : 1\n",
        "'''\n",
        "\n",
        "eq_reset ='''\n",
        "v = c\n",
        "u = u + d\n",
        "'''\n",
        "\n",
        "# define the neuron group and its parameters\n",
        "G = NeuronGroup(1, eqs, threshold='v>30', reset=eq_reset, method='euler')\n",
        "G.a = izhikevich_parameters[case]['a']*kHz\n",
        "G.b = izhikevich_parameters[case]['b']\n",
        "G.c = izhikevich_parameters[case]['c']\n",
        "G.d = izhikevich_parameters[case]['d']\n",
        "G.I = 10\n",
        "G.T = 1*ms\n",
        "G.v = -63\n",
        "G.u = -20\n",
        "\n",
        "# monitor the voltage\n",
        "M = StateMonitor(G, True, record=True)\n",
        "\n",
        "# run simulation\n",
        "run(200*ms)\n",
        "\n",
        "# visualize results\n",
        "plot(M.t/ms, M.v[0], label='Neuron 0')\n",
        "xlabel('Time (ms)')\n",
        "ylabel('v in volt')\n",
        "legend()\n",
        "show()\n",
        "plot(M.t/ms, M.u[0], label='Neuron 0')\n",
        "xlabel('Time (ms)')\n",
        "ylabel('u')\n",
        "legend()\n",
        "show()\n",
        "\n",
        "# Optional: phase plane \n",
        "def f(v,u):\n",
        "  a = izhikevich_parameters[case]['a']*10\n",
        "  b = izhikevich_parameters[case]['b']\n",
        "  return ((0.04*v**2+5*v+140-u+10), a*(b*v-u))\n",
        "\n",
        "x = np.linspace(-70,20,20)\n",
        "y = np.linspace(np.min(M.u[0]),np.max(M.u[0]),15)\n",
        "\n",
        "X,Y = np.meshgrid(x,y)\n",
        "\n",
        "xx, yy = np.zeros(X.shape), np.zeros(Y.shape)\n",
        "\n",
        "for i,j in np.ndindex(X.shape):\n",
        "  res = f(X[i,j],Y[i,j])\n",
        "  xx[i,j] = res[0]\n",
        "  yy[i,j] = res[1]\n",
        "\n",
        "import matplotlib.pyplot as plt\n",
        "plt.figure(figsize=(15,7))\n",
        "Q1 = plt.quiver(X,Y,xx,np.zeros_like(yy),color='r')\n",
        "Q1 = plt.quiver(X,Y,np.zeros_like(xx),yy,color='g')\n",
        "\n",
        "plot(M.v[0], M.u[0], label='Neuron 0',alpha=0.5,marker='o',markersize = 4)\n",
        "xlabel('v')\n",
        "ylabel('u')\n",
        "title('phase plane analysis')\n",
        "legend()\n",
        "show()"
      ],
      "execution_count": null,
      "outputs": []
    },
    {
      "cell_type": "markdown",
      "metadata": {
        "id": "O2XgW3wESnqR",
        "colab_type": "text"
      },
      "source": [
        "Here, we decided to split up the components of the vector field $\\frac{d}{dt}(v,u)$ because the first component grows very large (spiking). This makes it very hard to see the different components of the field because the large values at one point dwarf the values at another point. The downside with the current representation is that it breaks the scale between the two derivatives. Generally, the sum of the two arrows should be tangent to the blue line.\n",
        "\n",
        "Typically, one would rather use Mathematica or similar software  for such a task."
      ]
    },
    {
      "cell_type": "markdown",
      "metadata": {
        "id": "DrKHlC6RS7jq",
        "colab_type": "text"
      },
      "source": [
        "# Task 3\n",
        "\n",
        "Now that you have seen how to use Brian2 to build simple networks with synapses and different neuron models, we want to implement STDP based on the equations that you derived last time. Recall that both, pre- and postsynaptic, spikes leave a trace in the synapse. They are modeled according to\n",
        "\\begin{align}\n",
        "\\tau_{pre} \\frac{d}{dt}a_{pre} &= - a_{pre} \\ , \\\\\n",
        "\\tau_{post} \\frac{d}{dt}a_{post} &= - a_{post} \\ . \\\\\n",
        "\\end{align}\n",
        "\n",
        "When a pre-synaptic spike arrives at the synapse, the trace and the weight are updated\n",
        "\\begin{align}\n",
        "a_{pre} \\rightarrow a_{pre} + A_{pre} \\ , \\\\\n",
        "w \\rightarrow w + a_{post} \\ .\n",
        "\\end{align}\n",
        "\n",
        "When a post-synaptic spike arrives, we update\n",
        "\\begin{align}\n",
        "a_{post} \\rightarrow a_{post} + A_{post} \\ , \\\\\n",
        "w \\rightarrow w + a_{pre}\n",
        "\\end{align}\n",
        "\n",
        "You may express these equations for Brian2 as"
      ]
    },
    {
      "cell_type": "code",
      "metadata": {
        "id": "ddMKfeG06zKK",
        "colab_type": "code",
        "colab": {}
      },
      "source": [
        "taupre = taupost = 20*ms\n",
        "Apre = 0.01\n",
        "Apost = -Apre\n",
        "tmax = 50*ms\n",
        "N = 100\n",
        "\n",
        "model_A = '''\n",
        "          w : 1\n",
        "          dapre/dt = -apre/taupre : 1 (event-driven)\n",
        "          dapost/dt = -apost/taupost : 1 (event-driven)\n",
        "          '''\n",
        "model_B = '''\n",
        "          apre += Apre\n",
        "          w = w+apost\n",
        "          '''\n",
        "\n",
        "model_C = '''\n",
        "          apost += Apost\n",
        "          w = w+apre\n",
        "          '''"
      ],
      "execution_count": null,
      "outputs": []
    },
    {
      "cell_type": "markdown",
      "metadata": {
        "id": "JnjjuqBq7dMB",
        "colab_type": "text"
      },
      "source": [
        "Go through the following code and place `model_A`, `model_B`, and `model_C` at the appropriate positions in the Synapse class. You probably have to check Brian2's user guide for that.\n",
        "\n",
        "Try to explain in your own words what the code does and how it relates to the previous exercise (exercise 04 - local variables for stdp)."
      ]
    },
    {
      "cell_type": "code",
      "metadata": {
        "id": "RQqjGBm3WRxQ",
        "colab_type": "code",
        "colab": {}
      },
      "source": [
        "start_scope()\n",
        "\n",
        "G = NeuronGroup(N, 'tspike:second', threshold='t>tspike', refractory=100*ms)\n",
        "H = NeuronGroup(N, 'tspike:second', threshold='t>tspike', refractory=100*ms)\n",
        "G.tspike = 'i*tmax/(N-1)'\n",
        "H.tspike = '(N-1-i)*tmax/(N-1)'\n",
        "\n",
        "S = Synapses(G, H,# TO DO: place models here.)\n",
        "S.connect(j='i')\n",
        "\n",
        "run(tmax+1*ms)\n",
        "\n",
        "plot((H.tspike-G.tspike)/ms, S.w)\n",
        "xlabel(r'$\\Delta t$ (ms)')\n",
        "ylabel(r'$\\Delta w$')\n",
        "axhline(0, ls='-', c='k');"
      ],
      "execution_count": null,
      "outputs": []
    },
    {
      "cell_type": "markdown",
      "metadata": {
        "id": "_E-PAhfN9U14",
        "colab_type": "text"
      },
      "source": [
        "# Solution 3"
      ]
    },
    {
      "cell_type": "code",
      "metadata": {
        "id": "dQI1mkpa9FHt",
        "colab_type": "code",
        "colab": {
          "base_uri": "https://localhost:8080/",
          "height": 358
        },
        "outputId": "51583fbe-b9b0-4031-c2ca-b5de67e568e8"
      },
      "source": [
        "start_scope()\n",
        "\n",
        "# Presynaptic neurons G spike at times from 0 to tmax\n",
        "# Postsynaptic neurons G spike at times from tmax to 0\n",
        "# So difference in spike times will vary from -tmax to +tmax\n",
        "G = NeuronGroup(N, 'tspike:second', threshold='t>tspike', refractory=100*ms)\n",
        "H = NeuronGroup(N, 'tspike:second', threshold='t>tspike', refractory=100*ms)\n",
        "G.tspike = 'i*tmax/(N-1)'\n",
        "H.tspike = '(N-1-i)*tmax/(N-1)'\n",
        "\n",
        "S = Synapses(G, H,model=model_A,on_pre=model_B,on_post=model_C)\n",
        "S.connect(j='i')\n",
        "\n",
        "run(tmax+1*ms)\n",
        "\n",
        "plot((H.tspike-G.tspike)/ms, S.w)\n",
        "xlabel(r'$\\Delta t$ (ms)')\n",
        "ylabel(r'$\\Delta w$')\n",
        "axhline(0, ls='-', c='k');"
      ],
      "execution_count": null,
      "outputs": [
        {
          "output_type": "stream",
          "text": [
            "WARNING    \"i\" is an internal variable of group \"neurongroup_4\", but also exists in the run namespace with the value 14. The internal variable will be used. [brian2.groups.group.Group.resolve.resolution_conflict]\n",
            "WARNING    \"i\" is an internal variable of group \"neurongroup_5\", but also exists in the run namespace with the value 14. The internal variable will be used. [brian2.groups.group.Group.resolve.resolution_conflict]\n",
            "WARNING    \"i\" is an internal variable of group \"synapses\", but also exists in the run namespace with the value 14. The internal variable will be used. [brian2.groups.group.Group.resolve.resolution_conflict]\n"
          ],
          "name": "stderr"
        },
        {
          "output_type": "display_data",
          "data": {
            "image/png": "[encoded data removed]",
            "text/plain": [
              "<Figure size 432x288 with 1 Axes>"
            ]
          },
          "metadata": {
            "tags": [],
            "needs_background": "light"
          }
        }
      ]
    },
    {
      "cell_type": "markdown",
      "metadata": {
        "id": "4AIfNNB59ZFo",
        "colab_type": "text"
      },
      "source": [
        "The code sample provides the numeric proof of last weeks exercise. The spike times of the pre- and post-synaptic neurons are arranged such that they span the time $-t_{max} < \\Delta t < t_{max}$. We plot the weight changes in the network against the time difference and find the function \n",
        "\\begin{equation}\n",
        "W(\\Delta t) =\n",
        "\\begin{cases}\n",
        "A_{pre} e^{-\\Delta t  \\tau_{pre} }    & \\Delta t > 0 \\\\ \n",
        "A_{post} e^{\\Delta t  \\tau_{post}  }  & \\Delta t < 0\n",
        "\\end{cases}\n",
        "\\end{equation}\n",
        "which we modeled with the local variables in the first place. "
      ]
    },
    {
      "cell_type": "code",
      "metadata": {
        "id": "ldwI02_Y9_MQ",
        "colab_type": "code",
        "colab": {}
      },
      "source": [
        ""
      ],
      "execution_count": null,
      "outputs": []
    }
  ]
}