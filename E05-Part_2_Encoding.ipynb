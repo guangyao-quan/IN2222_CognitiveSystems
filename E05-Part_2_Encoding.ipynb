{
  "nbformat": 4,
  "nbformat_minor": 0,
  "metadata": {
    "colab": {
      "name": "Exercise 05 - Part 2 - Encoding.ipynb",
      "provenance": [],
      "collapsed_sections": [],
      "toc_visible": true
    },
    "kernelspec": {
      "name": "python3",
      "display_name": "Python 3"
    }
  },
  "cells": [
    {
      "cell_type": "markdown",
      "metadata": {
        "id": "r4UammQlR1WE"
      },
      "source": [
        "# Exercise - Encoding"
      ]
    },
    {
      "cell_type": "code",
      "metadata": {
        "id": "nUfrBlVdStql"
      },
      "source": [
        "# Install matplotlib for plotting results. Numpy is included in the package\n",
        "# Pillow is the basic Image library for Python, and will be used for showing\n",
        "# the image-like 2-D results\n",
        "# array2gif will be used for creating RGB animated gifs\n",
        "!pip install matplotlib\n",
        "!pip install pillow\n",
        "!pip install array2gif\n",
        "\n",
        "# Download a cat test image from Wikipedia\n",
        "!wget --output-document=cat.jpg https://i.pinimg.com/280x280_RS/3a/d2/cc/3ad2cc3dea6225983487904da4be52f4.jpg\n"
      ],
      "execution_count": null,
      "outputs": []
    },
    {
      "cell_type": "markdown",
      "metadata": {
        "id": "yMoHEejGcuvv"
      },
      "source": [
        "# Frequency encoding: Single value conversion"
      ]
    },
    {
      "cell_type": "code",
      "metadata": {
        "id": "Cy4XDA1VyLHz"
      },
      "source": [
        "import matplotlib.pyplot as plt\n",
        "import numpy as np"
      ],
      "execution_count": null,
      "outputs": []
    },
    {
      "cell_type": "markdown",
      "metadata": {
        "id": "MWLxlmAXYKz5"
      },
      "source": [
        "In this section a method for implementing *frequency encoding* will be introduced. The solution is entirely done in Python, and it only requires the *NumPy* library. Additionally, *matplotlib* is used for showing the results. Please notice that this kind of encoding is often called *rate encoding* in literature., and both terms are equivalent. We will use *frequency encoding* for the rest of this exercise.\n",
        "\n",
        "The following function is used for generating the spike train parameters. As explained in the course slides, it basically consists in a scale conversion\n",
        "from the value domain to the frequency domain."
      ]
    },
    {
      "cell_type": "code",
      "metadata": {
        "id": "iV1ExprRai1U"
      },
      "source": [
        "def get_spike_params(value, min_frequency=0.1, max_frequency=1, min_value=0,\n",
        "                     max_value=255, max_time=20, t_0=0):\n",
        "    \"\"\"\n",
        "    Obtain the spike train parameters for a frequency encoder.\n",
        "\n",
        "    The generated parameters are the period, initial spike time, and the\n",
        "    total number of spikes that have to be generated for the specified\n",
        "    time range.\n",
        "    \"\"\"\n",
        "    input_range = max_value - min_value\n",
        "    frequency_range = max_frequency - min_frequency\n",
        "    scale_factor = frequency_range / input_range\n",
        "    frequency = min_frequency + (value-min_value)*scale_factor\n",
        "    period = 1 / frequency\n",
        "    # Generate the first spike at a random position within the range of the\n",
        "    # obtained period\n",
        "    init_spike = np.random.uniform(t_0, t_0+period)\n",
        "\n",
        "    # Calculate the spike times and generate the spike train\n",
        "    n_spikes = np.trunc((max_time-init_spike)*frequency + 1)    \n",
        "    return (period, init_spike, n_spikes)"
      ],
      "execution_count": null,
      "outputs": []
    },
    {
      "cell_type": "markdown",
      "metadata": {
        "id": "XIzEJl-ngIL_"
      },
      "source": [
        "On top of the previous function, we use another function that takes into account the specific constraints of single floating values. As you will see later in this exercise, in case of 2-D images it will be necessary to use slightly different instructions.\n",
        "\n",
        "To sum up, the following function takes the spike train parameters and build a spike train itself. From a data structure point of view, this spike train consists of a list of values that represent the time at which each specific spike occurs."
      ]
    },
    {
      "cell_type": "code",
      "metadata": {
        "id": "xfcM-B4RxRK_"
      },
      "source": [
        "def value2spikes(value, min_value=0, max_value=100, **kwargs):\n",
        "    \"\"\"\n",
        "    Convert one single float value into a spike train.\n",
        "    \"\"\"\n",
        "    # Make sure that the provided value is coherent with \n",
        "    # the provided limits\n",
        "    if value>max_value or value<min_value:\n",
        "        raise ValueError(\"Value off bounds\")\n",
        "    kwargs[\"min_value\"] = min_value\n",
        "    kwargs[\"max_value\"] = max_value\n",
        "\n",
        "    # Calculate the spiking parameters and the spike train\n",
        "    period, init_spike, n_spikes = get_spike_params(value)\n",
        "    spike_train = np.arange(n_spikes)*period + init_spike\n",
        "    spike_train = np.around(spike_train, 1)\n",
        "    return spike_train"
      ],
      "execution_count": null,
      "outputs": []
    },
    {
      "cell_type": "markdown",
      "metadata": {
        "id": "rQC7a0OAVYgm"
      },
      "source": [
        "Let's try the two functions that have just been introduced by feeding some values and plotting the resulting spike train."
      ]
    },
    {
      "cell_type": "code",
      "metadata": {
        "id": "bueNL_b6VYKW"
      },
      "source": [
        "values = [10, 30, 95]\n",
        "spike_trains = []\n",
        "for value in values:\n",
        "    spike_train = value2spikes(value)\n",
        "    spike_trains.append(spike_train)\n",
        "plt.eventplot(spike_trains, colors = ['r', 'g', 'b'])\n",
        "plt.legend(['10', '30', '95'], bbox_to_anchor=(0.2, 0.8, 1, .1), loc=5, ncol=1)\n",
        "ax = plt.gca()\n",
        "ax.axes.yaxis.set_visible(False)"
      ],
      "execution_count": null,
      "outputs": []
    },
    {
      "cell_type": "markdown",
      "metadata": {
        "id": "7Bfbu4tZx5xL"
      },
      "source": [
        "# Frequency encoding: 2-D image conversion"
      ]
    },
    {
      "cell_type": "markdown",
      "metadata": {
        "id": "OtJyhzrnx_ba"
      },
      "source": [
        "Now that we have a basic understanding on how to apply frequency encoding to a single float value between previously defined limits, let's apply this same concept to a 2D image. For the sake of simplicity, the input image will be converted to a grey scale, where each pixel has an intensity value ranged between 0 and 255 (For those not used to deal with images, this is the most conventional way of representing images in computer science experiments).\n",
        "\n",
        "As a first step, we will use the following routine for reading our test image and converting it to the aforementioned format:"
      ]
    },
    {
      "cell_type": "code",
      "metadata": {
        "id": "GlmCh-CQzTn5"
      },
      "source": [
        "def rgb2gray(rgb):\n",
        "    \"\"\"\n",
        "    Convert input RGB image into a grey scale image.\n",
        "\n",
        "    Obtained from https://stackoverflow.com/q/12201577/3982405\n",
        "    \"\"\"\n",
        "    gray_img = np.dot(rgb[...,:3], [0.2989, 0.5870, 0.1140])\n",
        "    return gray_img\n",
        "\n",
        "# Read the test image and convert it to a grey scale image\n",
        "image = plt.imread(\"cat.jpg\")\n",
        "grey_image = rgb2gray(image)\n",
        "\n",
        "# Show the original and grey scale images\n",
        "_, imgaxis = plt.subplots(1,2)\n",
        "imgaxis[0].axis('off')\n",
        "imgaxis[1].axis('off')\n",
        "imgaxis[0].imshow(image)\n",
        "imgaxis[1].imshow(grey_image, cmap=\"gray\", vmin=0, vmax=255)"
      ],
      "execution_count": null,
      "outputs": []
    },
    {
      "cell_type": "markdown",
      "metadata": {
        "id": "D16QQO0Fz78b"
      },
      "source": [
        "Let's now adapt the function `value2frequency()` that we created before, so it can handle 2-D images. In order to do so, let's create another function called \n",
        "`generate_image_spiketrain` for generating a data structure containing the spike train corresponding to each pixel. This is not the most optimal way of achieving our goal from a computational perspective, but it is very easy to visualize in the code what we are exactly doing i.e. we are creating a vector per pixel where we store the spike times for that specific pixel.\n"
      ]
    },
    {
      "cell_type": "code",
      "metadata": {
        "id": "mRuj6IY20IYn"
      },
      "source": [
        "def generate_image_spiketrain(img, init_spikes, periods, n_spikes):\n",
        "    result = np.zeros_like(img, dtype=object)\n",
        "    for row in range(img.shape[0]):\n",
        "        for col in range(img.shape[1]):\n",
        "            spike_train = np.arange(n_spikes[row,col])*periods[row,col]\n",
        "            spike_train += init_spikes[row,col]\n",
        "            result[row, col] = spike_train.astype(np.int)\n",
        "\n",
        "    return result\n",
        "\n",
        "\n"
      ],
      "execution_count": null,
      "outputs": []
    },
    {
      "cell_type": "markdown",
      "metadata": {
        "id": "a7NC-HUq00m7"
      },
      "source": [
        "Next, let's implement the function `image2frequency()` that was mentioned before, which first calculates the spiking parameters pixel-wise and then create a spike train per pixel."
      ]
    },
    {
      "cell_type": "code",
      "metadata": {
        "id": "HKXKJDc40yjo"
      },
      "source": [
        "def image2spikes(img, min_value=0, max_value=255, **kwargs):\n",
        "    \"\"\"\n",
        "    Convert a 2-D grey scale image into pixel-wise spike trains.\n",
        "    \"\"\"\n",
        "    # Make sure that the provided value is coherent with the limits\n",
        "    if not (img>=min_value).all() and (img<=max_value).all():\n",
        "        raise ValueError(\"Value off bounds\")\n",
        "    kwargs[\"min_value\"] = min_value\n",
        "    kwargs[\"max_value\"] = max_value\n",
        "    # Invert image values, so high values translate into high frequency\n",
        "    img = 255-img\n",
        "\n",
        "    # Calculate the spike train for every pixel in the image\n",
        "    periods, init_spikes, n_spikes = get_spike_params(img, **kwargs)\n",
        "    spike_train = generate_image_spiketrain(img, init_spikes, periods, n_spikes)\n",
        "    return spike_train"
      ],
      "execution_count": null,
      "outputs": []
    },
    {
      "cell_type": "markdown",
      "metadata": {
        "id": "t6rlAEOn1CLa"
      },
      "source": [
        "Now that we are able to generate a spike train per pixel, we will feed our test image to these functions and arbitrary amount of timestamps. At each timestamp, we call the function `train2spikes()` in order to know which pixels shall spike.\n",
        "\n"
      ]
    },
    {
      "cell_type": "code",
      "metadata": {
        "id": "4lWahWat0yeJ"
      },
      "source": [
        "def train2spikes(spike_trains, timestep):\n",
        "    \"\"\"\n",
        "    Decide for each pixel if there is a spike at the selected time step.\n",
        "    \"\"\"\n",
        "    spikes = np.zeros_like(spike_trains).astype(np.int)\n",
        "    # Iterate through all pixels and decide which ones spike\n",
        "    for row in range(spikes.shape[0]):\n",
        "        for col in range(spikes.shape[1]):\n",
        "            # There is a spike if the input time step is contained in\n",
        "            # the pixel spike times\n",
        "            if timestep in spike_trains[row,col]:\n",
        "                spikes[row,col] = 1\n",
        "    return spikes\n",
        "\n",
        "def create_image_sequence():\n",
        "    spike_trains = image2spikes(grey_image)\n",
        "    # Very high values in the amount of timesteps will considerably increase\n",
        "    # the computational cost in the following steps.\n",
        "    timesteps = np.arange(30)\n",
        "\n",
        "    # Generate an image sequence, and decide which pixels spike\n",
        "    # at each time step\n",
        "    images = []\n",
        "    for step in timesteps:\n",
        "        images.append(train2spikes(spike_trains, step))\n",
        "    return images"
      ],
      "execution_count": null,
      "outputs": []
    },
    {
      "cell_type": "markdown",
      "metadata": {
        "id": "9Swh3yvP3lZ8"
      },
      "source": [
        "Finally, let's plot the obtained results and observe the effect of frequency encoding on 2-D images. Ideally, we would use the function `plt.imshow()` in an iterative fashion, but the output is not the desired in the *Jupyter Notebook*. Instead, we will download a small library (*array2gif*) for generating an animated gif and we will open it afterwards."
      ]
    },
    {
      "cell_type": "code",
      "metadata": {
        "id": "Ul17AGebASw7"
      },
      "source": [
        "from array2gif import write_gif\n",
        "from IPython.display import Image\n",
        "\n",
        "\n",
        "images = create_image_sequence()\n",
        "# Create a 3-channels image from the grey original. It's still a grey image, \n",
        "# but the RGB format is required for using the array2gif library\n",
        "rgb_formatted = []\n",
        "for img in images:\n",
        "    rgb_image = np.stack((img.transpose()*255,)*3, axis=-1)\n",
        "    rgb_formatted.append(rgb_image)\n",
        "write_gif(rgb_formatted, 'result.gif', fps=3)\n",
        "\n",
        "Image(open('result.gif','rb').read())\n",
        "\n"
      ],
      "execution_count": null,
      "outputs": []
    },
    {
      "cell_type": "markdown",
      "metadata": {
        "id": "9ev50ak5Texf"
      },
      "source": [
        "# Open questions"
      ]
    },
    {
      "cell_type": "markdown",
      "metadata": {
        "id": "P7CkyosnE8Ms"
      },
      "source": [
        "\n",
        "*   How does the spikes change when we change the frequency maximum and minimumy values? Try modifying those values when calling the function image2frequency in the input line [8]\n",
        "*   There are other encoding techniques that have been introduced in the lecture slides. Try modifying the `get_spike_params()` in the input line [4] in order to implement temporal encoding. An easy approach would be to use *time to first spike* encoding technique, so the highest the value the faster it spikes. How does it look now? (In the exercise 3 you can get an idea of how it should look)\n",
        "\n",
        "\n",
        "\n"
      ]
    }
  ]
}