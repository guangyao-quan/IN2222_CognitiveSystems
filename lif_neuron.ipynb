{
  "nbformat": 4,
  "nbformat_minor": 0,
  "metadata": {
    "colab": {
      "name": "ex3_lif_neuron.ipynb",
      "provenance": [],
      "collapsed_sections": []
    },
    "kernelspec": {
      "name": "python3",
      "display_name": "Python 3"
    },
    "language_info": {
      "name": "python"
    }
  },
  "cells": [
    {
      "cell_type": "markdown",
      "metadata": {
        "id": "SW0oknkDsn7-"
      },
      "source": [
        "# Integrate-and-fire (LIF) neuron\n",
        "\n",
        "In order to examine the dynamics of the LIF neuron we solve the given differential equation (DE) by numerical integration.\n",
        "\n",
        "$$\n",
        "    C \\frac{dv}{dt} = I(t) - \\frac{v(t) - v_\\text{rest}}{R}\n",
        "$$\n",
        "\n",
        "Rearranging the DE provides the potential change $dv$ per time step $dt$,\n",
        "\n",
        "$$\n",
        "    \\frac{dv(t)}{dt} = ( \\frac{I}{C} - \\frac{v(t) - v_\\text{rest}}{\\tau}).\n",
        "$$\n",
        "\n",
        "Now, we can calculate (estimate) the membrane potential $v_i$ for each time step $i$ with the following agorithm\n",
        "$$\n",
        "v_{i+1} = v_{i} +  \\frac{dv_i}{dt} \\cdot dt = v_{i} + ( \\frac{I}{C} - \\frac{v_i - v_\\text{rest}}{\\tau}) \\cdot dt.\n",
        "$$\n",
        "\n",
        "The initial membrane potential $v_0$ has to be set in order to start the calculation."
      ]
    },
    {
      "cell_type": "markdown",
      "metadata": {
        "id": "h0p0EF5qv3RJ"
      },
      "source": [
        "(B) To sketch the membrane dynamics we implement the algorithm. "
      ]
    },
    {
      "cell_type": "code",
      "metadata": {
        "id": "hqNQnlt4sMNU"
      },
      "source": [
        "# Loading modules\n",
        "import numpy as np\n",
        "import matplotlib.pyplot as plt"
      ],
      "execution_count": null,
      "outputs": []
    },
    {
      "cell_type": "code",
      "metadata": {
        "id": "Sat0F91XwMge"
      },
      "source": [
        "def v(N, dt, tau, C, v0, v_rest, I=None):\n",
        "  \"\"\"\n",
        "  Function to solve the differential equation of a leaky\n",
        "  integrate-and-fire model.\n",
        "\n",
        "  :param dt: (num) integration time step\n",
        "  :param v0: (num) initial membrane potential\n",
        "  :param v_rest: (num) rest potential\n",
        "  :param tau: (num) membrane time constant\n",
        "  :param C: (num) membrane capacity\n",
        "  :param I: (array) input current\n",
        "\n",
        "  return: (array) stored membrane potential\n",
        "\n",
        "  \"\"\"\n",
        "\n",
        "  v = np.zeros(N) # store membrane potential\n",
        "  v[0] = v0       # initial voltage value\n",
        "\n",
        "  if I is None:\n",
        "    I = np.zeros(N)\n",
        "\n",
        "  for i in range(N-1):\n",
        "    # integrate using the forumal discussed above\n",
        "    v[i+1] = v[i] + (I[i]/C - (v[i] - v_rest)/tau)*dt\n",
        "\n",
        "  return v"
      ],
      "execution_count": null,
      "outputs": []
    },
    {
      "cell_type": "markdown",
      "metadata": {
        "id": "izppUiRfwx2w"
      },
      "source": [
        "Here, we define the parameters for the simulation.\n",
        "\n",
        "\n"
      ]
    },
    {
      "cell_type": "code",
      "metadata": {
        "id": "ebrjf2XJwvhM"
      },
      "source": [
        "N = 1000                      # number of integration steps\n",
        "dt = 0.1                      # time resolution in seconds\n",
        "time = np.linspace(0,dt*(N-1), N) # time array, just for plotting\n",
        "\n",
        "# neuron parameters\n",
        "C = 1\n",
        "tau = 10"
      ],
      "execution_count": null,
      "outputs": []
    },
    {
      "cell_type": "markdown",
      "metadata": {
        "id": "YdDFwTOVw8UM"
      },
      "source": [
        "We use numerical integration to examine the behaviour of the neuron for different values of $v_0$ and $v_\\text{rest}$. We assume $t_1 = 0$, $v_0 < 0$ and $v_\\text{rest} < 0$. We sketch the dynamics for the cases: (I) $v_0 = v_\\text{rest}$, (II) $v_0 < v_\\text{rest}$ and (III) $v_0 > v_\\text{rest}$."
      ]
    },
    {
      "cell_type": "code",
      "metadata": {
        "id": "ubSeFAQnxEH9"
      },
      "source": [
        "fig, ax = plt.subplots(figsize=(10,6), nrows=1,ncols=1)\n",
        "ax.set_title('Leaky LIF neuron with no input current')\n",
        "ax.plot(time, #TODO: Insert membrane potential, \n",
        "           label=r'$v_0 = v_{rest}$')\n",
        "ax.plot(time, #TODO: insert membrane potential, \n",
        "           label=r'$v_0 > v_{rest}$')\n",
        "ax.plot(time, #TODO: insert membrane potential, \n",
        "           label=r'$v_0 < v_{rest}$')\n",
        "ax.legend()\n",
        "ax.set_ylabel(r'Membrane potential $v$')\n",
        "ax.set_xlabel(r'time in seconds')\n",
        "plt.show()"
      ],
      "execution_count": null,
      "outputs": []
    },
    {
      "cell_type": "markdown",
      "metadata": {
        "id": "-nkrR8zm-_kw"
      },
      "source": [
        "## Additional tasks (OPTIONAL)\n",
        "\n",
        "* Play around with the model and simulation parameters\n",
        "* Insert a constant input current\n",
        "* Insert a spike\n",
        "* Insert a pulse current"
      ]
    }
  ]
}